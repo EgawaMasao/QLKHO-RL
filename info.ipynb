{
 "cells": [
  {
   "cell_type": "markdown",
   "id": "f5f46452",
   "metadata": {},
   "source": [
    "## Các trạng thái của agent:\n",
    "- Vị trí tồn kho theo thời gian t. Đối với bài báo, vị trí tồn kho có thể là vô hạn( có thể cho luôn âm vô cực để xét chi tiết thiếu hàng). và nó chỉ xét trên 1 nguyên liệu duy nhất. cho nên trạng thái chỉ cần quan tâm đến vị trí tồn kho(số lượng hàng còn trong kho tính cả hàng đã đặt).\n",
    "    Với bài làm hiện tại, có đa dạng sản phẩm tồn tại trong kho, cụ thể là có 92353, cho nên việc phân chia trạng thái theo chiều sẽ bất khả thi, vì nó sẽ nhân theo cấp số mũ, thành ra gần như tạo ra vô số trạng thái.\n",
    "    Giờ đây có một ý tưởng là sẽ áp dụng phần chia sản phẩm theo ABC/XYZ để giảm thiểu đi số lượng loại sản phẩm trong kho đi.\n",
    "# Cách phân tích ABC/XYZ\n",
    "- ABC analysis – chia theo giá trị và tầm quan trọng\n",
    "    - A: ~20% sản phẩm nhưng chiếm ~80% giá trị tồn kho/doanh thu. Đây là nhóm “xương sống” cần quản chặt.\n",
    "\n",
    "    - B: ~30% sản phẩm, ~15% giá trị. Quản lý vừa phải.\n",
    "\n",
    "    - C: ~50% sản phẩm, chỉ ~5% giá trị. Quản lý đơn giản hơn.\n",
    "- XYZ analysis – chia theo tính ổn định nhu cầu\n",
    "    - X: nhu cầu ổn định, dự đoán tốt (ví dụ bán đều mỗi tháng).\n",
    "\n",
    "    - Y: nhu cầu có mùa vụ hoặc biến động theo chu kỳ.\n",
    "\n",
    "    - Z: nhu cầu thất thường, khó dự đoán.\n",
    "- Kết hợp 2 lại phần tích thành ABC/XYZ thì sẽ có:\n",
    "    - Mỗi sản phẩm sẽ rơi vào một trong 9 ô (A‑X, A‑Y, A‑Z, B‑X, … C‑Z).\n",
    "\n",
    "    - Sau đó, có thể gom tiếp các ô có đặc điểm quản lý giống nhau thành khoảng 50 nhóm.\n",
    "\n",
    "    - Ví dụ: A‑X và B‑X có thể chung nhóm “quản lý chặt và nhu cầu ổn định”.\n",
    "\n",
    "    - C‑Z có thể thành một nhóm “ít quan trọng, nhu cầu khó đoán”.\n",
    "\n",
    "Sau khi áp dụng phương pháp phân tích trên, thì từ 92353 loại sản phẩm trong kho thì sẽ chia ra được 50 phân nhóm.\n",
    "\n",
    "Sau khi chia ra phân nhóm xong, thì tiếp tục hành trình phân tích rời rạc trạng thái. Giờ thì sẽ chia mẫu trạng thái ra làm 4 mức rời rạc (0-3).\n",
    "\n",
    "Sau khi phân nhóm xong, State = mảng 50 phần tử (mỗi phần tử ∈ {0,1,2,3}) → chỉ còn \n",
    "4**50 tổ hợp thay vì với số mũ 92353 tổ hợp ban đầu."
   ]
  },
  {
   "cell_type": "markdown",
   "id": "592859f0",
   "metadata": {},
   "source": []
  }
 ],
 "metadata": {
  "language_info": {
   "name": "python"
  }
 },
 "nbformat": 4,
 "nbformat_minor": 5
}
